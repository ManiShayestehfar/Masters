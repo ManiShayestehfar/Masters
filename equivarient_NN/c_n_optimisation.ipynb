{
 "cells": [
  {
   "cell_type": "code",
   "execution_count": null,
   "id": "72a43fe9",
   "metadata": {},
   "outputs": [],
   "source": [
    "import pandas as pd\n",
    "import numpy as np\n",
    "import matplotlib as mpl\n",
    "import matplotlib.pyplot as plt\n",
    "import sympy as sp\n",
    "from scipy.special import erf\n",
    "from scipy.integrate import quad\n",
    "from scipy.fft import dst\n",
    "import networkx as nx\n",
    "import math\n",
    "\n",
    "from utils import *\n",
    "from intersection_graph import *\n",
    "\n",
    "mpl.rcParams.update(mpl.rcParamsDefault)\n",
    "plt.rc('text', usetex=False)"
   ]
  },
  {
   "cell_type": "code",
   "execution_count": 16,
   "id": "e5c7b492",
   "metadata": {},
   "outputs": [
    {
     "name": "stdout",
     "output_type": "stream",
     "text": [
      "Stopped at iter 3000, |h|=7.62e-01\n",
      "x* on sphere: [ 7.22851800e-175 -3.17408844e-174  1.98652715e-174  2.71102429e-174\n",
      " -1.00000000e+000 -4.91110175e-174]\n",
      "<x*, f(x*)> = 0.7615941559557649\n"
     ]
    }
   ],
   "source": [
    "# ---------- activations ----------\n",
    "def relu(z):      return np.maximum(0.0, z)\n",
    "def drelu(z):     return (z > 0).astype(float)  # subgradient a.e.; at 0 we take 0\n",
    "def tanh(z):      return np.tanh(z)\n",
    "def dtanh(z):     return 1.0 - np.tanh(z)**2\n",
    "def sigmoid(z):   return 1.0 / (1.0 + np.exp(-z))\n",
    "def dsigmoid(z):  s = sigmoid(z); return s * (1.0 - s)\n",
    "def gelu(z):      return 0.5 * z * (1.0 + erf(z / np.sqrt(2)))\n",
    "def dgelu(z):\n",
    "    # exact derivative of GELU = Φ(z) + z φ(z), where φ is std normal pdf\n",
    "    Phi = 0.5 * (1.0 + erf(z / np.sqrt(2)))\n",
    "    phi = (1.0 / np.sqrt(2*np.pi)) * np.exp(-0.5 * z**2)\n",
    "    return Phi + z * phi\n",
    "\n",
    "# Choose your activation here:\n",
    "phi, dphi = (tanh, dtanh)\n",
    "\n",
    "# ---------- objective pieces ----------\n",
    "def h(x):\n",
    "    \"\"\"h(x) = <x, f(x)> = sum_i x_i * phi(x_i)\"\"\"\n",
    "    return float(np.dot(x, phi(x)))\n",
    "\n",
    "def grad_h(x):\n",
    "    \"\"\"∇h(x) = f(x) + J_phi(x)^T x = phi(x) + dphi(x) * x  (elementwise)\"\"\"\n",
    "    return phi(x) + dphi(x) * x\n",
    "\n",
    "def proj_tangent(x, v):\n",
    "    \"\"\"Project v onto the tangent space at x on the unit sphere: (I - xx^T) v\"\"\"\n",
    "    return v - x * np.dot(x, v)\n",
    "\n",
    "def step_on_sphere(x, g, eta):\n",
    "    \"\"\"Retraction by normalisation (first-order accurate)\"\"\"\n",
    "    y = x - eta * g\n",
    "    return y / np.linalg.norm(y)\n",
    "\n",
    "# ---------- solver ----------\n",
    "def find_on_vanishing_set(n=8, seed=0, steps=2000, lr=0.1, tol=1e-10, verbose=False):\n",
    "    rng = np.random.default_rng(seed)\n",
    "    x = rng.normal(size=n)\n",
    "    x /= np.linalg.norm(x)  # start on S^{n-1}\n",
    "\n",
    "    for k in range(steps):\n",
    "        hx = h(x)\n",
    "        if abs(hx) <= tol:\n",
    "            if verbose:\n",
    "                print(f\"Converged at iter {k}, |h|={abs(hx):.2e}\")\n",
    "            return x, hx\n",
    "\n",
    "        # Riemannian gradient of J(x) = 0.5 * h(x)^2 on the sphere:\n",
    "        # grad_S J = h(x) * proj_tangent(x, ∇h(x))\n",
    "        g_euc = grad_h(x)\n",
    "        g_sph = hx * proj_tangent(x, g_euc)\n",
    "\n",
    "        # take a step and retract\n",
    "        x = step_on_sphere(x, g_sph, lr)\n",
    "\n",
    "        # (optional) small adaptive damping if you see oscillations\n",
    "        # if k % 200 == 199: lr *= 0.9\n",
    "\n",
    "    if verbose:\n",
    "        print(f\"Stopped at iter {steps}, |h|={abs(h(x)):.2e}\")\n",
    "    return x, h(x)\n",
    "\n",
    "# ---------- demo ----------\n",
    "if __name__ == \"__main__\":\n",
    "    x_star, h_val = find_on_vanishing_set(n=6, seed=42, steps=3000, lr=0.2, tol=1e-12, verbose=True)\n",
    "    print(\"x* on sphere:\", x_star)\n",
    "    print(\"<x*, f(x*)> =\", h_val)\n"
   ]
  },
  {
   "cell_type": "code",
   "execution_count": null,
   "id": "d4f1ce05",
   "metadata": {},
   "outputs": [],
   "source": []
  }
 ],
 "metadata": {
  "kernelspec": {
   "display_name": "master",
   "language": "python",
   "name": "python3"
  },
  "language_info": {
   "codemirror_mode": {
    "name": "ipython",
    "version": 3
   },
   "file_extension": ".py",
   "mimetype": "text/x-python",
   "name": "python",
   "nbconvert_exporter": "python",
   "pygments_lexer": "ipython3",
   "version": "3.12.11"
  }
 },
 "nbformat": 4,
 "nbformat_minor": 5
}
